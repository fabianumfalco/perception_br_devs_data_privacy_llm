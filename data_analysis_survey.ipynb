{
 "cells": [
  {
   "cell_type": "code",
   "execution_count": 252,
   "id": "3cfedb40",
   "metadata": {},
   "outputs": [],
   "source": [
    "import pandas as pd\n",
    "from tabulate import tabulate"
   ]
  },
  {
   "cell_type": "code",
   "execution_count": 190,
   "id": "6939acb2",
   "metadata": {},
   "outputs": [],
   "source": [
    "df = pd.read_csv('QUESTIONÁRIO ONLINE: Investigando a Percepção dos Desenvolvedores Brasileiros de Software  sobre Privacidade de Dados no uso de  LLMs.csv')"
   ]
  },
  {
   "cell_type": "code",
   "execution_count": 191,
   "id": "168df88b",
   "metadata": {},
   "outputs": [
    {
     "data": {
      "text/plain": [
       "(73, 44)"
      ]
     },
     "execution_count": 191,
     "metadata": {},
     "output_type": "execute_result"
    }
   ],
   "source": [
    "df.shape"
   ]
  },
  {
   "cell_type": "code",
   "execution_count": 192,
   "id": "ae241ba7",
   "metadata": {},
   "outputs": [
    {
     "data": {
      "text/plain": [
       "Index(['Carimbo de data/hora', 'Você concorda em participar desta pesquisa?',\n",
       "       '1. Qual a sua idade?', '2. Em qual Estado você mora?',\n",
       "       '3. Qual seu nível de escolaridade?',\n",
       "       '4. Qual é a sua principal função atualmente na área de desenvolvimento de software?',\n",
       "       '5. Quantos anos de experiência você tem trabalhando em desenvolvimento de software?',\n",
       "       '6. Qual seu nível de conhecimento sobre privacidade de dados?',\n",
       "       '7. Você já participou de treinamentos ou cursos sobre privacidade de dados? ',\n",
       "       '8. Qual sua principal fonte de informação sobre privacidade de dados? ',\n",
       "       '9.  Qual seu nível de conhecimento sobre a Lei Geral de Proteção de Dados (LGPD)? ',\n",
       "       '10. Qual seu nível de conhecimento sobre os princípios da Lei Geral de Proteção de Dados (LGPD)? ',\n",
       "       '11. Quais são os principais princípios da LGPD que você conhece? (Marque todas as opções que se aplicam)',\n",
       "       '12. Quais dos seguintes conceitos de proteção de dados da LGPD você está familiarizado? (Marque todas as opções que se aplicam)',\n",
       "       '13. Qual o seu nível de conhecimento sobre as diferenças entre dados pessoais e dados sensíveis? ',\n",
       "       '14. Qual o seu nível de conhecimento sobre os direitos dos titulares de dados sob a LGPD?',\n",
       "       '15. Como você garantiria a privacidade de dados em um sistema de software?',\n",
       "       '16. Como você classificaria seu conhecimento sobre LLMs? ',\n",
       "       '17. Quais LLMs você já utilizou ou está familiarizado? (Marque todas as opções que se aplicam)',\n",
       "       '18. Você já participou de treinamentos ou cursos sobre LLMs? ',\n",
       "       '19. Como você utiliza LLMs em suas atividades profissionais?',\n",
       "       '20. Na sua opinião, você possui um bom entendimento das capacidades e limitações dos LLMs? ',\n",
       "       '21. Quais das seguintes aplicações de LLMs você conhece ou já utilizou? (Marque todas as opções que se aplicam)',\n",
       "       '22. Qual o seu nível de conhecimento sobre os riscos à privacidade associados ao uso de LLMs? ',\n",
       "       '23. Quais dos seguintes riscos à privacidade você associa ao uso de LLMs? (Marque todos que se aplicam)',\n",
       "       '24. Quais são os principais riscos à privacidade que você associa ao uso de LLMs? ',\n",
       "       '25. Na sua opinião, qual o nível de risco de privacidade associado ao uso de LLMs em seus projetos?',\n",
       "       '26. Qual sua opinião sobre o treinamento de LLMs sem comprometer a privacidade dos dados?',\n",
       "       '27. Quais tipos de dados pessoais você considera mais sensíveis ao serem processados por Large Language Models (LLMs)? (Marque todas as opções que se aplicam)',\n",
       "       '28. Qual a sua avaliação da probabilidade de ocorrência de violações de dados relacionadas ao uso de LLMs?',\n",
       "       '29. Qual o seu nível de preocupação com o impacto de violações de dados relacionadas ao uso de LLMs?',\n",
       "       '30. Quais medidas você toma para mitigar os riscos de privacidade ao usar LLMs? ',\n",
       "       '31. Para proteger sua privacidade ao usar LLMs, você adota alguma prática específica? (Marque todas as opções que se aplicam)',\n",
       "       '32. Como você lida com dados sensíveis ao utilizar LLMs? ',\n",
       "       '33. Antes de utilizar seus dados com LLMs, você toma alguma medida para protegê-los, como anonimização ou pseudonimização? ',\n",
       "       'Quais os principais desafios que você enfrenta ao implementar práticas de privacidade ao usar LLMs? (Marque todas as opções que se aplicam)',\n",
       "       '35. Quais dos seguintes desafios você considera mais difíceis ao garantir a privacidade de dados ao usar LLMs em suas atividades profissionais? (Marque todas as opções que se aplicam)',\n",
       "       '36. Você acha que a legislação atual é adequada para proteger a privacidade de dados ao usar LLMs? ',\n",
       "       '37. Você tem dificuldades em encontrar informações ou recursos sobre privacidade de dados ao usar LLMs? ',\n",
       "       '38. Como a falta de conhecimento específico sobre privacidade de dados afeta seu trabalho com LLMs? (Marque todas as opções que se aplicam)',\n",
       "       '39. Quais recomendações você daria para outros desenvolvedores sobre como proteger a privacidade de dados ao usar LLMs?',\n",
       "       '40. Na sua opinião, mais treinamentos e cursos sobre privacidade de dados e LLMs são necessários?',\n",
       "       '41.  Na sua opinião, quão importante é ter uma cultura organizacional que aborda a privacidade de dados ao usar LLMs? ',\n",
       "       '42. Que tipo de suporte ou recursos adicionais você acredita que seriam úteis para melhorar a proteção da privacidade de dados ao usar LLMs? (Marque todas as opções que se aplicam)'],\n",
       "      dtype='object')"
      ]
     },
     "execution_count": 192,
     "metadata": {},
     "output_type": "execute_result"
    }
   ],
   "source": [
    "df.columns"
   ]
  },
  {
   "cell_type": "code",
   "execution_count": 250,
   "id": "9b075953",
   "metadata": {},
   "outputs": [
    {
     "data": {
      "text/html": [
       "<div>\n",
       "<style scoped>\n",
       "    .dataframe tbody tr th:only-of-type {\n",
       "        vertical-align: middle;\n",
       "    }\n",
       "\n",
       "    .dataframe tbody tr th {\n",
       "        vertical-align: top;\n",
       "    }\n",
       "\n",
       "    .dataframe thead th {\n",
       "        text-align: right;\n",
       "    }\n",
       "</style>\n",
       "<table border=\"1\" class=\"dataframe\">\n",
       "  <thead>\n",
       "    <tr style=\"text-align: right;\">\n",
       "      <th></th>\n",
       "      <th>Faixa Etária</th>\n",
       "      <th>qtde</th>\n",
       "      <th>pct</th>\n",
       "    </tr>\n",
       "  </thead>\n",
       "  <tbody>\n",
       "    <tr>\n",
       "      <th>0</th>\n",
       "      <td>Entre 26 e 30 anos</td>\n",
       "      <td>4</td>\n",
       "      <td>5.5</td>\n",
       "    </tr>\n",
       "    <tr>\n",
       "      <th>1</th>\n",
       "      <td>Entre 31 e 36 anos</td>\n",
       "      <td>11</td>\n",
       "      <td>15.1</td>\n",
       "    </tr>\n",
       "    <tr>\n",
       "      <th>2</th>\n",
       "      <td>Entre 37 e 42 anos</td>\n",
       "      <td>23</td>\n",
       "      <td>31.5</td>\n",
       "    </tr>\n",
       "    <tr>\n",
       "      <th>3</th>\n",
       "      <td>Entre 43 e 47 anos</td>\n",
       "      <td>20</td>\n",
       "      <td>27.4</td>\n",
       "    </tr>\n",
       "    <tr>\n",
       "      <th>4</th>\n",
       "      <td>Entre 48 e 54 anos</td>\n",
       "      <td>12</td>\n",
       "      <td>16.4</td>\n",
       "    </tr>\n",
       "    <tr>\n",
       "      <th>5</th>\n",
       "      <td>Entre 55 a 60 anos</td>\n",
       "      <td>3</td>\n",
       "      <td>4.1</td>\n",
       "    </tr>\n",
       "  </tbody>\n",
       "</table>\n",
       "</div>"
      ],
      "text/plain": [
       "         Faixa Etária  qtde   pct\n",
       "0  Entre 26 e 30 anos     4   5.5\n",
       "1  Entre 31 e 36 anos    11  15.1\n",
       "2  Entre 37 e 42 anos    23  31.5\n",
       "3  Entre 43 e 47 anos    20  27.4\n",
       "4  Entre 48 e 54 anos    12  16.4\n",
       "5  Entre 55 a 60 anos     3   4.1"
      ]
     },
     "execution_count": 250,
     "metadata": {},
     "output_type": "execute_result"
    }
   ],
   "source": [
    "idade_sts = df['1. Qual a sua idade?'].value_counts().to_frame()\n",
    "idade_sts = idade_sts.sort_index(ascending=True)\n",
    "idade_sts = idade_sts.reset_index(drop=False)\n",
    "idade_sts = idade_sts.rename(columns={'index': 'Faixa Etária'})\n",
    "idade_sts.rename(columns={'1. Qual a sua idade?': 'qtde'}, inplace=True)\n",
    "idade_sts['pct'] = ((idade_sts['qtde']/df.shape[0])*100).round(1)\n",
    "idade_sts"
   ]
  },
  {
   "cell_type": "code",
   "execution_count": 254,
   "id": "aa3ba50a",
   "metadata": {},
   "outputs": [
    {
     "name": "stdout",
     "output_type": "stream",
     "text": [
      "\\begin{tabular}{lrr}\n",
      "\\hline\n",
      " Entre 26 e 30 anos &  4 &  5.5 \\\\\n",
      " Entre 31 e 36 anos & 11 & 15.1 \\\\\n",
      " Entre 37 e 42 anos & 23 & 31.5 \\\\\n",
      " Entre 43 e 47 anos & 20 & 27.4 \\\\\n",
      " Entre 48 e 54 anos & 12 & 16.4 \\\\\n",
      " Entre 55 a 60 anos &  3 &  4.1 \\\\\n",
      "\\hline\n",
      "\\end{tabular}\n"
     ]
    }
   ],
   "source": [
    "# Criando a tabela LaTeX com o pacote `tabulate`\n",
    "tabela_latex = tabulate(idade_sts, floatfmt=\".1f\", tablefmt=\"latex\", showindex=\"False\")\n",
    "\n",
    "# Imprimindo a tabela LaTeX\n",
    "print(tabela_latex)"
   ]
  },
  {
   "cell_type": "code",
   "execution_count": null,
   "id": "4bd159dd",
   "metadata": {},
   "outputs": [],
   "source": []
  },
  {
   "cell_type": "code",
   "execution_count": 255,
   "id": "f628a44c",
   "metadata": {},
   "outputs": [],
   "source": [
    "estados_regiao = {\n",
    "    \"AC\": \"Norte\",\n",
    "    \"AL\": \"Nordeste\",\n",
    "    \"AM\": \"Norte\",\n",
    "    \"AP\": \"Norte\",\n",
    "    \"BA\": \"Nordeste\",\n",
    "    \"CE\": \"Nordeste\",\n",
    "    \"DF\": \"Centro-Oeste\",\n",
    "    \"ES\": \"Sudeste\",\n",
    "    \"GO\": \"Centro-Oeste\",\n",
    "    \"MA\": \"Nordeste\",\n",
    "    \"MG\": \"Sudeste\",\n",
    "    \"MS\": \"Centro-Oeste\",\n",
    "    \"MT\": \"Centro-Oeste\",\n",
    "    \"PA\": \"Norte\",\n",
    "    \"PB\": \"Nordeste\",\n",
    "    \"PE\": \"Nordeste\",\n",
    "    \"PI\": \"Nordeste\",\n",
    "    \"PR\": \"Sul\",\n",
    "    \"RJ\": \"Sudeste\",\n",
    "    \"RN\": \"Nordeste\",\n",
    "    \"RS\": \"Sul\",\n",
    "    \"RO\": \"Norte\",\n",
    "    \"RR\": \"Norte\",\n",
    "    \"SC\": \"Sul\",\n",
    "    \"SE\": \"Nordeste\",\n",
    "    \"SP\": \"Sudeste\",\n",
    "    \"TO\": \"Norte\",\n",
    "    \"Nenhum (moro fora do Brasil)\":\"Exterior\"\n",
    "}"
   ]
  },
  {
   "cell_type": "code",
   "execution_count": 283,
   "id": "24754927",
   "metadata": {},
   "outputs": [
    {
     "data": {
      "text/html": [
       "<div>\n",
       "<style scoped>\n",
       "    .dataframe tbody tr th:only-of-type {\n",
       "        vertical-align: middle;\n",
       "    }\n",
       "\n",
       "    .dataframe tbody tr th {\n",
       "        vertical-align: top;\n",
       "    }\n",
       "\n",
       "    .dataframe thead th {\n",
       "        text-align: right;\n",
       "    }\n",
       "</style>\n",
       "<table border=\"1\" class=\"dataframe\">\n",
       "  <thead>\n",
       "    <tr style=\"text-align: right;\">\n",
       "      <th></th>\n",
       "      <th>regiao_brasil</th>\n",
       "      <th>qtde</th>\n",
       "      <th>pct</th>\n",
       "    </tr>\n",
       "  </thead>\n",
       "  <tbody>\n",
       "    <tr>\n",
       "      <th>0</th>\n",
       "      <td>Centro-Oeste</td>\n",
       "      <td>59</td>\n",
       "      <td>80.8</td>\n",
       "    </tr>\n",
       "    <tr>\n",
       "      <th>1</th>\n",
       "      <td>Exterior</td>\n",
       "      <td>1</td>\n",
       "      <td>1.4</td>\n",
       "    </tr>\n",
       "    <tr>\n",
       "      <th>2</th>\n",
       "      <td>Nordeste</td>\n",
       "      <td>1</td>\n",
       "      <td>1.4</td>\n",
       "    </tr>\n",
       "    <tr>\n",
       "      <th>3</th>\n",
       "      <td>Norte</td>\n",
       "      <td>3</td>\n",
       "      <td>4.1</td>\n",
       "    </tr>\n",
       "    <tr>\n",
       "      <th>4</th>\n",
       "      <td>Sudeste</td>\n",
       "      <td>6</td>\n",
       "      <td>8.2</td>\n",
       "    </tr>\n",
       "    <tr>\n",
       "      <th>5</th>\n",
       "      <td>Sul</td>\n",
       "      <td>3</td>\n",
       "      <td>4.1</td>\n",
       "    </tr>\n",
       "  </tbody>\n",
       "</table>\n",
       "</div>"
      ],
      "text/plain": [
       "  regiao_brasil  qtde   pct\n",
       "0  Centro-Oeste    59  80.8\n",
       "1      Exterior     1   1.4\n",
       "2      Nordeste     1   1.4\n",
       "3         Norte     3   4.1\n",
       "4       Sudeste     6   8.2\n",
       "5           Sul     3   4.1"
      ]
     },
     "execution_count": 283,
     "metadata": {},
     "output_type": "execute_result"
    }
   ],
   "source": [
    "estado_moradia = df[\"2. Em qual Estado você mora?\"].to_frame()\n",
    "estado_moradia[\"Região\"] = estado_moradia['2. Em qual Estado você mora?'].map(estados_regiao)\n",
    "estado_moradia_sts = estado_moradia[\"Região\"].value_counts().to_frame()\n",
    "\n",
    "estado_moradia_sts = estado_moradia_sts.sort_index(ascending=True)\n",
    "estado_moradia_sts = estado_moradia_sts.reset_index(drop=False)\n",
    "estado_moradia_sts = estado_moradia_sts.rename(columns={'index': 'regiao_brasil','Região':'qtde'})\n",
    "\n",
    "estado_moradia_sts['pct'] = ((estado_moradia_sts['qtde']/df.shape[0])*100).round(1)\n",
    "\n",
    "estado_moradia_sts"
   ]
  },
  {
   "cell_type": "code",
   "execution_count": 284,
   "id": "289cd084",
   "metadata": {},
   "outputs": [
    {
     "name": "stdout",
     "output_type": "stream",
     "text": [
      "\\begin{tabular}{lrr}\n",
      "\\hline\n",
      " Centro-Oeste & 59 & 80.8 \\\\\n",
      " Exterior     &  1 &  1.4 \\\\\n",
      " Nordeste     &  1 &  1.4 \\\\\n",
      " Norte        &  3 &  4.1 \\\\\n",
      " Sudeste      &  6 &  8.2 \\\\\n",
      " Sul          &  3 &  4.1 \\\\\n",
      "\\hline\n",
      "\\end{tabular}\n"
     ]
    }
   ],
   "source": [
    "# Criando a tabela LaTeX com o pacote `tabulate`\n",
    "tabela_latex = tabulate(estado_moradia_sts, floatfmt=\".1f\", tablefmt=\"latex\", showindex=\"False\")\n",
    "\n",
    "# Imprimindo a tabela LaTeX\n",
    "print(tabela_latex)"
   ]
  },
  {
   "cell_type": "code",
   "execution_count": 280,
   "id": "148713e6",
   "metadata": {},
   "outputs": [
    {
     "data": {
      "text/plain": [
       "73"
      ]
     },
     "execution_count": 280,
     "metadata": {},
     "output_type": "execute_result"
    }
   ],
   "source": [
    "sum(estado_moradia_sts['qtde'])"
   ]
  },
  {
   "cell_type": "code",
   "execution_count": null,
   "id": "c1cfb561",
   "metadata": {},
   "outputs": [],
   "source": []
  },
  {
   "cell_type": "code",
   "execution_count": null,
   "id": "7809e783",
   "metadata": {},
   "outputs": [],
   "source": []
  },
  {
   "cell_type": "code",
   "execution_count": 7,
   "id": "fc3356b0",
   "metadata": {},
   "outputs": [
    {
     "data": {
      "text/html": [
       "<div>\n",
       "<style scoped>\n",
       "    .dataframe tbody tr th:only-of-type {\n",
       "        vertical-align: middle;\n",
       "    }\n",
       "\n",
       "    .dataframe tbody tr th {\n",
       "        vertical-align: top;\n",
       "    }\n",
       "\n",
       "    .dataframe thead th {\n",
       "        text-align: right;\n",
       "    }\n",
       "</style>\n",
       "<table border=\"1\" class=\"dataframe\">\n",
       "  <thead>\n",
       "    <tr style=\"text-align: right;\">\n",
       "      <th></th>\n",
       "      <th>qtde</th>\n",
       "      <th>pct</th>\n",
       "    </tr>\n",
       "  </thead>\n",
       "  <tbody>\n",
       "    <tr>\n",
       "      <th>Centro-Oeste</th>\n",
       "      <td>58</td>\n",
       "      <td>80.6</td>\n",
       "    </tr>\n",
       "    <tr>\n",
       "      <th>Exterior</th>\n",
       "      <td>1</td>\n",
       "      <td>1.4</td>\n",
       "    </tr>\n",
       "    <tr>\n",
       "      <th>Nordeste</th>\n",
       "      <td>1</td>\n",
       "      <td>1.4</td>\n",
       "    </tr>\n",
       "    <tr>\n",
       "      <th>Norte</th>\n",
       "      <td>3</td>\n",
       "      <td>4.2</td>\n",
       "    </tr>\n",
       "    <tr>\n",
       "      <th>Sudeste</th>\n",
       "      <td>6</td>\n",
       "      <td>8.3</td>\n",
       "    </tr>\n",
       "    <tr>\n",
       "      <th>Sul</th>\n",
       "      <td>3</td>\n",
       "      <td>4.2</td>\n",
       "    </tr>\n",
       "  </tbody>\n",
       "</table>\n",
       "</div>"
      ],
      "text/plain": [
       "              qtde   pct\n",
       "Centro-Oeste    58  80.6\n",
       "Exterior         1   1.4\n",
       "Nordeste         1   1.4\n",
       "Norte            3   4.2\n",
       "Sudeste          6   8.3\n",
       "Sul              3   4.2"
      ]
     },
     "execution_count": 7,
     "metadata": {},
     "output_type": "execute_result"
    }
   ],
   "source": [
    "estado_moradia = df[\"2. Em qual Estado você mora?\"]\n",
    "estado_moradia = estado_moradia.to_frame(\"uf\")\n",
    "estado_moradia[\"Região\"] = estado_moradia['uf'].map(estados_regiao)\n",
    "regiao_moradia = estado_moradia[\"Região\"].value_counts()\n",
    "regiao_moradia = regiao_moradia.to_frame(\"qtde\")\n",
    "\n",
    "regiao_moradia_pct = ((regiao_moradia['qtde'] / estado_moradia.shape[0])*100).round(1)\n",
    "regiao_moradia_pct = regiao_moradia_pct.to_frame(\"pct\")\n",
    "df_final = pd.concat([regiao_moradia,regiao_moradia_pct], axis=1)\n",
    "df_final = df_final.sort_index(ascending=True)\n",
    "df_final"
   ]
  },
  {
   "cell_type": "code",
   "execution_count": 8,
   "id": "546c8d32",
   "metadata": {},
   "outputs": [
    {
     "data": {
      "text/html": [
       "<div>\n",
       "<style scoped>\n",
       "    .dataframe tbody tr th:only-of-type {\n",
       "        vertical-align: middle;\n",
       "    }\n",
       "\n",
       "    .dataframe tbody tr th {\n",
       "        vertical-align: top;\n",
       "    }\n",
       "\n",
       "    .dataframe thead th {\n",
       "        text-align: right;\n",
       "    }\n",
       "</style>\n",
       "<table border=\"1\" class=\"dataframe\">\n",
       "  <thead>\n",
       "    <tr style=\"text-align: right;\">\n",
       "      <th></th>\n",
       "      <th>qtde</th>\n",
       "      <th>pct</th>\n",
       "    </tr>\n",
       "  </thead>\n",
       "  <tbody>\n",
       "    <tr>\n",
       "      <th>Pós-graduação Lato Sensu (Especialização) ou MBA</th>\n",
       "      <td>42</td>\n",
       "      <td>58.3</td>\n",
       "    </tr>\n",
       "    <tr>\n",
       "      <th>Graduado</th>\n",
       "      <td>13</td>\n",
       "      <td>18.1</td>\n",
       "    </tr>\n",
       "    <tr>\n",
       "      <th>Mestrado</th>\n",
       "      <td>10</td>\n",
       "      <td>13.9</td>\n",
       "    </tr>\n",
       "    <tr>\n",
       "      <th>Doutorado</th>\n",
       "      <td>6</td>\n",
       "      <td>8.3</td>\n",
       "    </tr>\n",
       "  </tbody>\n",
       "</table>\n",
       "</div>"
      ],
      "text/plain": [
       "                                                  qtde   pct\n",
       "Pós-graduação Lato Sensu (Especialização) ou MBA    42  58.3\n",
       "Graduado                                            13  18.1\n",
       "Mestrado                                            10  13.9\n",
       "Doutorado                                            6   8.3"
      ]
     },
     "execution_count": 8,
     "metadata": {},
     "output_type": "execute_result"
    }
   ],
   "source": [
    "nivel_escolaridade = df[\"3. Qual seu nível de escolaridade?\"]\n",
    "nivel_escolaridade_qtde_frame = nivel_escolaridade.value_counts().rename_axis(\"qtde\").to_frame(\"qtde\")\n",
    "#nivel_escolaridade_qtde_frame\n",
    "\n",
    "nivel_escolaridade_pct_frame = (((nivel_escolaridade.value_counts()/nivel_escolaridade.shape[0])*100).round(1)).to_frame(\"pct\")\n",
    "#nivel_escolaridade_pct_frame\n",
    "\n",
    "df_final = pd.concat([nivel_escolaridade_qtde_frame,nivel_escolaridade_pct_frame], axis=1)\n",
    "#df_final = df_final.sort_index(ascending=True)\n",
    "df_final"
   ]
  },
  {
   "cell_type": "code",
   "execution_count": 10,
   "id": "b17d450e",
   "metadata": {},
   "outputs": [
    {
     "data": {
      "text/html": [
       "<div>\n",
       "<style scoped>\n",
       "    .dataframe tbody tr th:only-of-type {\n",
       "        vertical-align: middle;\n",
       "    }\n",
       "\n",
       "    .dataframe tbody tr th {\n",
       "        vertical-align: top;\n",
       "    }\n",
       "\n",
       "    .dataframe thead th {\n",
       "        text-align: right;\n",
       "    }\n",
       "</style>\n",
       "<table border=\"1\" class=\"dataframe\">\n",
       "  <thead>\n",
       "    <tr style=\"text-align: right;\">\n",
       "      <th></th>\n",
       "      <th>qtde</th>\n",
       "      <th>pct</th>\n",
       "    </tr>\n",
       "  </thead>\n",
       "  <tbody>\n",
       "    <tr>\n",
       "      <th>Administrador de Dados</th>\n",
       "      <td>1</td>\n",
       "      <td>1.4</td>\n",
       "    </tr>\n",
       "    <tr>\n",
       "      <th>Analista de Segurança de TI</th>\n",
       "      <td>2</td>\n",
       "      <td>2.8</td>\n",
       "    </tr>\n",
       "    <tr>\n",
       "      <th>Analista de qualidade e/ou testador</th>\n",
       "      <td>6</td>\n",
       "      <td>8.3</td>\n",
       "    </tr>\n",
       "    <tr>\n",
       "      <th>Analista de requisitos</th>\n",
       "      <td>2</td>\n",
       "      <td>2.8</td>\n",
       "    </tr>\n",
       "    <tr>\n",
       "      <th>Arquiteto de Software</th>\n",
       "      <td>7</td>\n",
       "      <td>9.7</td>\n",
       "    </tr>\n",
       "    <tr>\n",
       "      <th>Dono do Produto (Product Owner)</th>\n",
       "      <td>2</td>\n",
       "      <td>2.8</td>\n",
       "    </tr>\n",
       "    <tr>\n",
       "      <th>Engenheiro DevOps</th>\n",
       "      <td>5</td>\n",
       "      <td>6.9</td>\n",
       "    </tr>\n",
       "    <tr>\n",
       "      <th>Engenheiro e/ou analista de dados</th>\n",
       "      <td>6</td>\n",
       "      <td>8.3</td>\n",
       "    </tr>\n",
       "    <tr>\n",
       "      <th>Gerente de projeto</th>\n",
       "      <td>9</td>\n",
       "      <td>12.5</td>\n",
       "    </tr>\n",
       "    <tr>\n",
       "      <th>Líder técnico e/ou de equipe</th>\n",
       "      <td>10</td>\n",
       "      <td>13.9</td>\n",
       "    </tr>\n",
       "    <tr>\n",
       "      <th>Programador e/ou desenvolvedor</th>\n",
       "      <td>19</td>\n",
       "      <td>26.4</td>\n",
       "    </tr>\n",
       "    <tr>\n",
       "      <th>Scrum Master</th>\n",
       "      <td>3</td>\n",
       "      <td>4.2</td>\n",
       "    </tr>\n",
       "  </tbody>\n",
       "</table>\n",
       "</div>"
      ],
      "text/plain": [
       "                                     qtde   pct\n",
       "Administrador de Dados                  1   1.4\n",
       "Analista de Segurança de TI             2   2.8\n",
       "Analista de qualidade e/ou testador     6   8.3\n",
       "Analista de requisitos                  2   2.8\n",
       "Arquiteto de Software                   7   9.7\n",
       "Dono do Produto (Product Owner)         2   2.8\n",
       "Engenheiro DevOps                       5   6.9\n",
       "Engenheiro e/ou analista de dados       6   8.3\n",
       "Gerente de projeto                      9  12.5\n",
       "Líder técnico e/ou de equipe           10  13.9\n",
       "Programador e/ou desenvolvedor         19  26.4\n",
       "Scrum Master                            3   4.2"
      ]
     },
     "execution_count": 10,
     "metadata": {},
     "output_type": "execute_result"
    }
   ],
   "source": [
    "#df_temp = df[\"4. Qual é a sua principal função atualmente na área de desenvolvimento de software?\"]\n",
    "perfil = df[\"4. Qual é a sua principal função atualmente na área de desenvolvimento de software?\"].replace([\"Teste\", \"AppSec\",\"Administrador de Banco de Dados\"], [\"Analista de qualidade e/ou testador\", \"Analista de Segurança de TI\",\"Administrador de Dados\"])\n",
    "perfil_qtde_frame = perfil.value_counts().rename_axis(\"qtde\").to_frame(\"qtde\")\n",
    "#perfil_qtde_frame\n",
    "perfil_pct_frame = (((perfil.value_counts()/nivel_escolaridade.shape[0])*100).round(1)).to_frame(\"pct\")\n",
    "df_final = pd.concat([perfil_qtde_frame,perfil_pct_frame], axis=1)\n",
    "df_final = df_final.sort_index(ascending=True)\n",
    "df_final"
   ]
  },
  {
   "cell_type": "code",
   "execution_count": 11,
   "id": "d0fa3fed",
   "metadata": {},
   "outputs": [
    {
     "data": {
      "text/html": [
       "<div>\n",
       "<style scoped>\n",
       "    .dataframe tbody tr th:only-of-type {\n",
       "        vertical-align: middle;\n",
       "    }\n",
       "\n",
       "    .dataframe tbody tr th {\n",
       "        vertical-align: top;\n",
       "    }\n",
       "\n",
       "    .dataframe thead th {\n",
       "        text-align: right;\n",
       "    }\n",
       "</style>\n",
       "<table border=\"1\" class=\"dataframe\">\n",
       "  <thead>\n",
       "    <tr style=\"text-align: right;\">\n",
       "      <th></th>\n",
       "      <th>qtde</th>\n",
       "      <th>pct</th>\n",
       "    </tr>\n",
       "  </thead>\n",
       "  <tbody>\n",
       "    <tr>\n",
       "      <th>Mais de 15 anos</th>\n",
       "      <td>38</td>\n",
       "      <td>52.8</td>\n",
       "    </tr>\n",
       "    <tr>\n",
       "      <th>Entre 10 e 12 anos</th>\n",
       "      <td>10</td>\n",
       "      <td>13.9</td>\n",
       "    </tr>\n",
       "    <tr>\n",
       "      <th>Entre 13 e 15 anos</th>\n",
       "      <td>6</td>\n",
       "      <td>8.3</td>\n",
       "    </tr>\n",
       "    <tr>\n",
       "      <th>Entre 7 e 9 anos</th>\n",
       "      <td>6</td>\n",
       "      <td>8.3</td>\n",
       "    </tr>\n",
       "    <tr>\n",
       "      <th>Entre 4 e 6 anos</th>\n",
       "      <td>5</td>\n",
       "      <td>6.9</td>\n",
       "    </tr>\n",
       "    <tr>\n",
       "      <th>Entre 1 e 3 anos</th>\n",
       "      <td>5</td>\n",
       "      <td>6.9</td>\n",
       "    </tr>\n",
       "    <tr>\n",
       "      <th>Menos de 1 ano</th>\n",
       "      <td>2</td>\n",
       "      <td>2.8</td>\n",
       "    </tr>\n",
       "  </tbody>\n",
       "</table>\n",
       "</div>"
      ],
      "text/plain": [
       "                    qtde   pct\n",
       "Mais de 15 anos       38  52.8\n",
       "Entre 10 e 12 anos    10  13.9\n",
       "Entre 13 e 15 anos     6   8.3\n",
       "Entre 7 e 9 anos       6   8.3\n",
       "Entre 4 e 6 anos       5   6.9\n",
       "Entre 1 e 3 anos       5   6.9\n",
       "Menos de 1 ano         2   2.8"
      ]
     },
     "execution_count": 11,
     "metadata": {},
     "output_type": "execute_result"
    }
   ],
   "source": [
    "experiencia = df[\"5. Quantos anos de experiência você tem trabalhando em desenvolvimento de software?\"]\n",
    "experiencia_qtde_frame = experiencia.value_counts().rename_axis(\"qtde\").to_frame(\"qtde\")\n",
    "#experiencia_qtde_frame\n",
    "\n",
    "experiencia_pct_frame = (((experiencia.value_counts()/experiencia.shape[0])*100).round(1)).to_frame(\"pct\")\n",
    "#experiencia_pct_frame\n",
    "\n",
    "df_final = pd.concat([experiencia_qtde_frame,experiencia_pct_frame], axis=1)\n",
    "#df_final = df_final.sort_index(ascending=True)\n",
    "df_final"
   ]
  },
  {
   "cell_type": "code",
   "execution_count": 191,
   "id": "3d08b761",
   "metadata": {},
   "outputs": [
    {
     "data": {
      "text/plain": [
       "Conhecimento básico       37\n",
       "Conhecimento bom          22\n",
       "Conhecimento completo      7\n",
       "Noções básicas             6\n",
       "Name: 0, dtype: int64"
      ]
     },
     "execution_count": 191,
     "metadata": {},
     "output_type": "execute_result"
    }
   ],
   "source": [
    "conhecimento_privacidade = df[\"6. Qual seu nível de conhecimento sobre privacidade de dados?\"].to_frame()\n",
    "conhecimento_privacidade = conhecimento_privacidade[\"6. Qual seu nível de conhecimento sobre privacidade de dados?\"].str.split('(', expand=True)[0]\n",
    "conhecimento_privacidade.value_counts()\n"
   ]
  },
  {
   "cell_type": "code",
   "execution_count": 192,
   "id": "1ccdd0b3",
   "metadata": {},
   "outputs": [
    {
     "data": {
      "text/html": [
       "<div>\n",
       "<style scoped>\n",
       "    .dataframe tbody tr th:only-of-type {\n",
       "        vertical-align: middle;\n",
       "    }\n",
       "\n",
       "    .dataframe tbody tr th {\n",
       "        vertical-align: top;\n",
       "    }\n",
       "\n",
       "    .dataframe thead th {\n",
       "        text-align: right;\n",
       "    }\n",
       "</style>\n",
       "<table border=\"1\" class=\"dataframe\">\n",
       "  <thead>\n",
       "    <tr style=\"text-align: right;\">\n",
       "      <th></th>\n",
       "      <th>Q6</th>\n",
       "    </tr>\n",
       "    <tr>\n",
       "      <th>#</th>\n",
       "      <th></th>\n",
       "    </tr>\n",
       "  </thead>\n",
       "  <tbody>\n",
       "    <tr>\n",
       "      <th>1</th>\n",
       "      <td>Conhecimento completo</td>\n",
       "    </tr>\n",
       "    <tr>\n",
       "      <th>2</th>\n",
       "      <td>Conhecimento bom</td>\n",
       "    </tr>\n",
       "    <tr>\n",
       "      <th>3</th>\n",
       "      <td>Conhecimento bom</td>\n",
       "    </tr>\n",
       "    <tr>\n",
       "      <th>4</th>\n",
       "      <td>Conhecimento básico</td>\n",
       "    </tr>\n",
       "    <tr>\n",
       "      <th>5</th>\n",
       "      <td>Conhecimento básico</td>\n",
       "    </tr>\n",
       "    <tr>\n",
       "      <th>...</th>\n",
       "      <td>...</td>\n",
       "    </tr>\n",
       "    <tr>\n",
       "      <th>68</th>\n",
       "      <td>Noções básicas</td>\n",
       "    </tr>\n",
       "    <tr>\n",
       "      <th>69</th>\n",
       "      <td>Conhecimento bom</td>\n",
       "    </tr>\n",
       "    <tr>\n",
       "      <th>70</th>\n",
       "      <td>Conhecimento básico</td>\n",
       "    </tr>\n",
       "    <tr>\n",
       "      <th>71</th>\n",
       "      <td>Conhecimento básico</td>\n",
       "    </tr>\n",
       "    <tr>\n",
       "      <th>72</th>\n",
       "      <td>Conhecimento básico</td>\n",
       "    </tr>\n",
       "  </tbody>\n",
       "</table>\n",
       "<p>72 rows × 1 columns</p>\n",
       "</div>"
      ],
      "text/plain": [
       "                        Q6\n",
       "#                         \n",
       "1   Conhecimento completo \n",
       "2        Conhecimento bom \n",
       "3        Conhecimento bom \n",
       "4     Conhecimento básico \n",
       "5     Conhecimento básico \n",
       "..                     ...\n",
       "68         Noções básicas \n",
       "69       Conhecimento bom \n",
       "70    Conhecimento básico \n",
       "71    Conhecimento básico \n",
       "72    Conhecimento básico \n",
       "\n",
       "[72 rows x 1 columns]"
      ]
     },
     "execution_count": 192,
     "metadata": {},
     "output_type": "execute_result"
    }
   ],
   "source": [
    "conhecimento_privacidade = conhecimento_privacidade.to_frame()\n",
    "conhecimento_privacidade['#'] = range(1,len(conhecimento_privacidade)+1)\n",
    "conhecimento_privacidade = conhecimento_privacidade.set_index(['#'])\n",
    "conhecimento_privacidade.rename(columns={0: 'Q6'}, inplace=True)\n",
    "conhecimento_privacidade"
   ]
  },
  {
   "cell_type": "code",
   "execution_count": null,
   "id": "679d6984",
   "metadata": {},
   "outputs": [],
   "source": []
  },
  {
   "cell_type": "code",
   "execution_count": null,
   "id": "ef81368c",
   "metadata": {},
   "outputs": [],
   "source": []
  },
  {
   "cell_type": "code",
   "execution_count": 96,
   "id": "caa2cde2",
   "metadata": {},
   "outputs": [
    {
     "ename": "KeyError",
     "evalue": "'None of [range(1, 73)] are in the columns'",
     "output_type": "error",
     "traceback": [
      "\u001b[0;31m---------------------------------------------------------------------------\u001b[0m",
      "\u001b[0;31mKeyError\u001b[0m                                  Traceback (most recent call last)",
      "Cell \u001b[0;32mIn[96], line 2\u001b[0m\n\u001b[1;32m      1\u001b[0m conhecimento_privacidade \u001b[38;5;241m=\u001b[39m conhecimento_privacidade\u001b[38;5;241m.\u001b[39mto_frame()\n\u001b[0;32m----> 2\u001b[0m \u001b[43mconhecimento_privacidade\u001b[49m\u001b[38;5;241;43m.\u001b[39;49m\u001b[43mset_index\u001b[49m\u001b[43m(\u001b[49m\u001b[38;5;28;43mrange\u001b[39;49m\u001b[43m(\u001b[49m\u001b[38;5;241;43m1\u001b[39;49m\u001b[43m,\u001b[49m\u001b[43m \u001b[49m\u001b[38;5;28;43mlen\u001b[39;49m\u001b[43m(\u001b[49m\u001b[43mconhecimento_privacidade\u001b[49m\u001b[43m)\u001b[49m\u001b[43m \u001b[49m\u001b[38;5;241;43m+\u001b[39;49m\u001b[43m \u001b[49m\u001b[38;5;241;43m1\u001b[39;49m\u001b[43m)\u001b[49m\u001b[43m)\u001b[49m\n",
      "File \u001b[0;32m~/.local/lib/python3.10/site-packages/pandas/util/_decorators.py:331\u001b[0m, in \u001b[0;36mdeprecate_nonkeyword_arguments.<locals>.decorate.<locals>.wrapper\u001b[0;34m(*args, **kwargs)\u001b[0m\n\u001b[1;32m    325\u001b[0m \u001b[38;5;28;01mif\u001b[39;00m \u001b[38;5;28mlen\u001b[39m(args) \u001b[38;5;241m>\u001b[39m num_allow_args:\n\u001b[1;32m    326\u001b[0m     warnings\u001b[38;5;241m.\u001b[39mwarn(\n\u001b[1;32m    327\u001b[0m         msg\u001b[38;5;241m.\u001b[39mformat(arguments\u001b[38;5;241m=\u001b[39m_format_argument_list(allow_args)),\n\u001b[1;32m    328\u001b[0m         \u001b[38;5;167;01mFutureWarning\u001b[39;00m,\n\u001b[1;32m    329\u001b[0m         stacklevel\u001b[38;5;241m=\u001b[39mfind_stack_level(),\n\u001b[1;32m    330\u001b[0m     )\n\u001b[0;32m--> 331\u001b[0m \u001b[38;5;28;01mreturn\u001b[39;00m \u001b[43mfunc\u001b[49m\u001b[43m(\u001b[49m\u001b[38;5;241;43m*\u001b[39;49m\u001b[43margs\u001b[49m\u001b[43m,\u001b[49m\u001b[43m \u001b[49m\u001b[38;5;241;43m*\u001b[39;49m\u001b[38;5;241;43m*\u001b[39;49m\u001b[43mkwargs\u001b[49m\u001b[43m)\u001b[49m\n",
      "File \u001b[0;32m~/.local/lib/python3.10/site-packages/pandas/core/frame.py:6012\u001b[0m, in \u001b[0;36mDataFrame.set_index\u001b[0;34m(self, keys, drop, append, inplace, verify_integrity)\u001b[0m\n\u001b[1;32m   6009\u001b[0m                 missing\u001b[38;5;241m.\u001b[39mappend(col)\n\u001b[1;32m   6011\u001b[0m \u001b[38;5;28;01mif\u001b[39;00m missing:\n\u001b[0;32m-> 6012\u001b[0m     \u001b[38;5;28;01mraise\u001b[39;00m \u001b[38;5;167;01mKeyError\u001b[39;00m(\u001b[38;5;124mf\u001b[39m\u001b[38;5;124m\"\u001b[39m\u001b[38;5;124mNone of \u001b[39m\u001b[38;5;132;01m{\u001b[39;00mmissing\u001b[38;5;132;01m}\u001b[39;00m\u001b[38;5;124m are in the columns\u001b[39m\u001b[38;5;124m\"\u001b[39m)\n\u001b[1;32m   6014\u001b[0m \u001b[38;5;28;01mif\u001b[39;00m inplace:\n\u001b[1;32m   6015\u001b[0m     frame \u001b[38;5;241m=\u001b[39m \u001b[38;5;28mself\u001b[39m\n",
      "\u001b[0;31mKeyError\u001b[0m: 'None of [range(1, 73)] are in the columns'"
     ]
    }
   ],
   "source": [
    "conhecimento_privacidade = conhecimento_privacidade.to_frame()\n",
    "conhecimento_privacidade.set_index(range(1, len(conhecimento_privacidade) + 1))\n"
   ]
  },
  {
   "cell_type": "code",
   "execution_count": 101,
   "id": "70c1b9ab",
   "metadata": {},
   "outputs": [
    {
     "data": {
      "text/html": [
       "<div>\n",
       "<style scoped>\n",
       "    .dataframe tbody tr th:only-of-type {\n",
       "        vertical-align: middle;\n",
       "    }\n",
       "\n",
       "    .dataframe tbody tr th {\n",
       "        vertical-align: top;\n",
       "    }\n",
       "\n",
       "    .dataframe thead th {\n",
       "        text-align: right;\n",
       "    }\n",
       "</style>\n",
       "<table border=\"1\" class=\"dataframe\">\n",
       "  <thead>\n",
       "    <tr style=\"text-align: right;\">\n",
       "      <th></th>\n",
       "      <th>index</th>\n",
       "      <th>0</th>\n",
       "    </tr>\n",
       "  </thead>\n",
       "  <tbody>\n",
       "    <tr>\n",
       "      <th>0</th>\n",
       "      <td>0</td>\n",
       "      <td>Conhecimento completo</td>\n",
       "    </tr>\n",
       "    <tr>\n",
       "      <th>1</th>\n",
       "      <td>1</td>\n",
       "      <td>Conhecimento bom</td>\n",
       "    </tr>\n",
       "    <tr>\n",
       "      <th>2</th>\n",
       "      <td>2</td>\n",
       "      <td>Conhecimento bom</td>\n",
       "    </tr>\n",
       "    <tr>\n",
       "      <th>3</th>\n",
       "      <td>3</td>\n",
       "      <td>Conhecimento básico</td>\n",
       "    </tr>\n",
       "    <tr>\n",
       "      <th>4</th>\n",
       "      <td>4</td>\n",
       "      <td>Conhecimento básico</td>\n",
       "    </tr>\n",
       "    <tr>\n",
       "      <th>...</th>\n",
       "      <td>...</td>\n",
       "      <td>...</td>\n",
       "    </tr>\n",
       "    <tr>\n",
       "      <th>67</th>\n",
       "      <td>67</td>\n",
       "      <td>Noções básicas</td>\n",
       "    </tr>\n",
       "    <tr>\n",
       "      <th>68</th>\n",
       "      <td>68</td>\n",
       "      <td>Conhecimento bom</td>\n",
       "    </tr>\n",
       "    <tr>\n",
       "      <th>69</th>\n",
       "      <td>69</td>\n",
       "      <td>Conhecimento básico</td>\n",
       "    </tr>\n",
       "    <tr>\n",
       "      <th>70</th>\n",
       "      <td>70</td>\n",
       "      <td>Conhecimento básico</td>\n",
       "    </tr>\n",
       "    <tr>\n",
       "      <th>71</th>\n",
       "      <td>71</td>\n",
       "      <td>Conhecimento básico</td>\n",
       "    </tr>\n",
       "  </tbody>\n",
       "</table>\n",
       "<p>72 rows × 2 columns</p>\n",
       "</div>"
      ],
      "text/plain": [
       "    index                       0\n",
       "0       0  Conhecimento completo \n",
       "1       1       Conhecimento bom \n",
       "2       2       Conhecimento bom \n",
       "3       3    Conhecimento básico \n",
       "4       4    Conhecimento básico \n",
       "..    ...                     ...\n",
       "67     67         Noções básicas \n",
       "68     68       Conhecimento bom \n",
       "69     69    Conhecimento básico \n",
       "70     70    Conhecimento básico \n",
       "71     71    Conhecimento básico \n",
       "\n",
       "[72 rows x 2 columns]"
      ]
     },
     "execution_count": 101,
     "metadata": {},
     "output_type": "execute_result"
    }
   ],
   "source": [
    "conhecimento_privacidade.to_frame().reset_index()"
   ]
  },
  {
   "cell_type": "code",
   "execution_count": null,
   "id": "ea11d48e",
   "metadata": {},
   "outputs": [],
   "source": []
  },
  {
   "cell_type": "code",
   "execution_count": null,
   "id": "890a10fd",
   "metadata": {},
   "outputs": [],
   "source": []
  },
  {
   "cell_type": "code",
   "execution_count": 79,
   "id": "070cd814",
   "metadata": {},
   "outputs": [],
   "source": [
    "conhecimento_privacidade_series = conhecimento_privacidade.reset_index(drop=True)\n",
    "conhecimento_privacidade = conhecimento_privacidade_series.to_frame()"
   ]
  },
  {
   "cell_type": "code",
   "execution_count": 84,
   "id": "f0c5a5be",
   "metadata": {},
   "outputs": [
    {
     "data": {
      "text/plain": [
       "range(1, 72)"
      ]
     },
     "execution_count": 84,
     "metadata": {},
     "output_type": "execute_result"
    }
   ],
   "source": [
    "range(1, len(conhecimento_privacidade))"
   ]
  },
  {
   "cell_type": "code",
   "execution_count": 56,
   "id": "572f7f1e",
   "metadata": {},
   "outputs": [
    {
     "ename": "KeyError",
     "evalue": "'None of [range(1, 73)] are in the columns'",
     "output_type": "error",
     "traceback": [
      "\u001b[0;31m---------------------------------------------------------------------------\u001b[0m",
      "\u001b[0;31mKeyError\u001b[0m                                  Traceback (most recent call last)",
      "Cell \u001b[0;32mIn[56], line 2\u001b[0m\n\u001b[1;32m      1\u001b[0m conhecimento_privacidade \u001b[38;5;241m=\u001b[39m pd\u001b[38;5;241m.\u001b[39mDataFrame(conhecimento_privacidade)\n\u001b[0;32m----> 2\u001b[0m conhecimento_privacidade \u001b[38;5;241m=\u001b[39m \u001b[43mconhecimento_privacidade\u001b[49m\u001b[38;5;241;43m.\u001b[39;49m\u001b[43mset_index\u001b[49m\u001b[43m(\u001b[49m\u001b[38;5;28;43mrange\u001b[39;49m\u001b[43m(\u001b[49m\u001b[38;5;241;43m1\u001b[39;49m\u001b[43m,\u001b[49m\u001b[43m \u001b[49m\u001b[38;5;28;43mlen\u001b[39;49m\u001b[43m(\u001b[49m\u001b[43mconhecimento_privacidade\u001b[49m\u001b[43m)\u001b[49m\u001b[43m \u001b[49m\u001b[38;5;241;43m+\u001b[39;49m\u001b[43m \u001b[49m\u001b[38;5;241;43m1\u001b[39;49m\u001b[43m)\u001b[49m\u001b[43m)\u001b[49m\n\u001b[1;32m      3\u001b[0m conhecimento_privacidade\n",
      "File \u001b[0;32m~/.local/lib/python3.10/site-packages/pandas/util/_decorators.py:331\u001b[0m, in \u001b[0;36mdeprecate_nonkeyword_arguments.<locals>.decorate.<locals>.wrapper\u001b[0;34m(*args, **kwargs)\u001b[0m\n\u001b[1;32m    325\u001b[0m \u001b[38;5;28;01mif\u001b[39;00m \u001b[38;5;28mlen\u001b[39m(args) \u001b[38;5;241m>\u001b[39m num_allow_args:\n\u001b[1;32m    326\u001b[0m     warnings\u001b[38;5;241m.\u001b[39mwarn(\n\u001b[1;32m    327\u001b[0m         msg\u001b[38;5;241m.\u001b[39mformat(arguments\u001b[38;5;241m=\u001b[39m_format_argument_list(allow_args)),\n\u001b[1;32m    328\u001b[0m         \u001b[38;5;167;01mFutureWarning\u001b[39;00m,\n\u001b[1;32m    329\u001b[0m         stacklevel\u001b[38;5;241m=\u001b[39mfind_stack_level(),\n\u001b[1;32m    330\u001b[0m     )\n\u001b[0;32m--> 331\u001b[0m \u001b[38;5;28;01mreturn\u001b[39;00m \u001b[43mfunc\u001b[49m\u001b[43m(\u001b[49m\u001b[38;5;241;43m*\u001b[39;49m\u001b[43margs\u001b[49m\u001b[43m,\u001b[49m\u001b[43m \u001b[49m\u001b[38;5;241;43m*\u001b[39;49m\u001b[38;5;241;43m*\u001b[39;49m\u001b[43mkwargs\u001b[49m\u001b[43m)\u001b[49m\n",
      "File \u001b[0;32m~/.local/lib/python3.10/site-packages/pandas/core/frame.py:6012\u001b[0m, in \u001b[0;36mDataFrame.set_index\u001b[0;34m(self, keys, drop, append, inplace, verify_integrity)\u001b[0m\n\u001b[1;32m   6009\u001b[0m                 missing\u001b[38;5;241m.\u001b[39mappend(col)\n\u001b[1;32m   6011\u001b[0m \u001b[38;5;28;01mif\u001b[39;00m missing:\n\u001b[0;32m-> 6012\u001b[0m     \u001b[38;5;28;01mraise\u001b[39;00m \u001b[38;5;167;01mKeyError\u001b[39;00m(\u001b[38;5;124mf\u001b[39m\u001b[38;5;124m\"\u001b[39m\u001b[38;5;124mNone of \u001b[39m\u001b[38;5;132;01m{\u001b[39;00mmissing\u001b[38;5;132;01m}\u001b[39;00m\u001b[38;5;124m are in the columns\u001b[39m\u001b[38;5;124m\"\u001b[39m)\n\u001b[1;32m   6014\u001b[0m \u001b[38;5;28;01mif\u001b[39;00m inplace:\n\u001b[1;32m   6015\u001b[0m     frame \u001b[38;5;241m=\u001b[39m \u001b[38;5;28mself\u001b[39m\n",
      "\u001b[0;31mKeyError\u001b[0m: 'None of [range(1, 73)] are in the columns'"
     ]
    }
   ],
   "source": [
    "conhecimento_privacidade = pd.DataFrame(conhecimento_privacidade)\n",
    "conhecimento_privacidade = conhecimento_privacidade.set_index(range(1, len(conhecimento_privacidade) + 1))\n",
    "conhecimento_privacidade"
   ]
  },
  {
   "cell_type": "code",
   "execution_count": 97,
   "id": "6a0026b8",
   "metadata": {},
   "outputs": [
    {
     "ename": "KeyError",
     "evalue": "'6. Qual seu nível de conhecimento sobre privacidade de dados?'",
     "output_type": "error",
     "traceback": [
      "\u001b[0;31m---------------------------------------------------------------------------\u001b[0m",
      "\u001b[0;31mKeyError\u001b[0m                                  Traceback (most recent call last)",
      "File \u001b[0;32m~/.local/lib/python3.10/site-packages/pandas/core/indexes/base.py:3802\u001b[0m, in \u001b[0;36mIndex.get_loc\u001b[0;34m(self, key, method, tolerance)\u001b[0m\n\u001b[1;32m   3801\u001b[0m \u001b[38;5;28;01mtry\u001b[39;00m:\n\u001b[0;32m-> 3802\u001b[0m     \u001b[38;5;28;01mreturn\u001b[39;00m \u001b[38;5;28;43mself\u001b[39;49m\u001b[38;5;241;43m.\u001b[39;49m\u001b[43m_engine\u001b[49m\u001b[38;5;241;43m.\u001b[39;49m\u001b[43mget_loc\u001b[49m\u001b[43m(\u001b[49m\u001b[43mcasted_key\u001b[49m\u001b[43m)\u001b[49m\n\u001b[1;32m   3803\u001b[0m \u001b[38;5;28;01mexcept\u001b[39;00m \u001b[38;5;167;01mKeyError\u001b[39;00m \u001b[38;5;28;01mas\u001b[39;00m err:\n",
      "File \u001b[0;32m~/.local/lib/python3.10/site-packages/pandas/_libs/index.pyx:138\u001b[0m, in \u001b[0;36mpandas._libs.index.IndexEngine.get_loc\u001b[0;34m()\u001b[0m\n",
      "File \u001b[0;32m~/.local/lib/python3.10/site-packages/pandas/_libs/index.pyx:146\u001b[0m, in \u001b[0;36mpandas._libs.index.IndexEngine.get_loc\u001b[0;34m()\u001b[0m\n",
      "File \u001b[0;32mpandas/_libs/index_class_helper.pxi:49\u001b[0m, in \u001b[0;36mpandas._libs.index.Int64Engine._check_type\u001b[0;34m()\u001b[0m\n",
      "\u001b[0;31mKeyError\u001b[0m: '6. Qual seu nível de conhecimento sobre privacidade de dados?'",
      "\nThe above exception was the direct cause of the following exception:\n",
      "\u001b[0;31mKeyError\u001b[0m                                  Traceback (most recent call last)",
      "Cell \u001b[0;32mIn[97], line 1\u001b[0m\n\u001b[0;32m----> 1\u001b[0m conhecimento_privacidade_2 \u001b[38;5;241m=\u001b[39m \u001b[43mconhecimento_privacidade\u001b[49m\u001b[43m[\u001b[49m\u001b[38;5;124;43m\"\u001b[39;49m\u001b[38;5;124;43m6. Qual seu nível de conhecimento sobre privacidade de dados?\u001b[39;49m\u001b[38;5;124;43m\"\u001b[39;49m\u001b[43m]\u001b[49m\u001b[38;5;241m.\u001b[39mreplace([\u001b[38;5;124m\"\u001b[39m\u001b[38;5;124mConhecimento bom\u001b[39m\u001b[38;5;124m\"\u001b[39m, \u001b[38;5;124m\"\u001b[39m\u001b[38;5;124mConhecimento completo\u001b[39m\u001b[38;5;124m\"\u001b[39m], [\u001b[38;5;124m\"\u001b[39m\u001b[38;5;124mConhecimento intermediário\u001b[39m\u001b[38;5;124m\"\u001b[39m, \u001b[38;5;124m\"\u001b[39m\u001b[38;5;124mConhecimento avançado\u001b[39m\u001b[38;5;124m\"\u001b[39m])\n\u001b[1;32m      2\u001b[0m conhecimento_privacidade_2\u001b[38;5;241m.\u001b[39mvalue_counts()\n\u001b[1;32m      3\u001b[0m conhecimento_privacidade_2\n",
      "File \u001b[0;32m~/.local/lib/python3.10/site-packages/pandas/core/frame.py:3807\u001b[0m, in \u001b[0;36mDataFrame.__getitem__\u001b[0;34m(self, key)\u001b[0m\n\u001b[1;32m   3805\u001b[0m \u001b[38;5;28;01mif\u001b[39;00m \u001b[38;5;28mself\u001b[39m\u001b[38;5;241m.\u001b[39mcolumns\u001b[38;5;241m.\u001b[39mnlevels \u001b[38;5;241m>\u001b[39m \u001b[38;5;241m1\u001b[39m:\n\u001b[1;32m   3806\u001b[0m     \u001b[38;5;28;01mreturn\u001b[39;00m \u001b[38;5;28mself\u001b[39m\u001b[38;5;241m.\u001b[39m_getitem_multilevel(key)\n\u001b[0;32m-> 3807\u001b[0m indexer \u001b[38;5;241m=\u001b[39m \u001b[38;5;28;43mself\u001b[39;49m\u001b[38;5;241;43m.\u001b[39;49m\u001b[43mcolumns\u001b[49m\u001b[38;5;241;43m.\u001b[39;49m\u001b[43mget_loc\u001b[49m\u001b[43m(\u001b[49m\u001b[43mkey\u001b[49m\u001b[43m)\u001b[49m\n\u001b[1;32m   3808\u001b[0m \u001b[38;5;28;01mif\u001b[39;00m is_integer(indexer):\n\u001b[1;32m   3809\u001b[0m     indexer \u001b[38;5;241m=\u001b[39m [indexer]\n",
      "File \u001b[0;32m~/.local/lib/python3.10/site-packages/pandas/core/indexes/base.py:3804\u001b[0m, in \u001b[0;36mIndex.get_loc\u001b[0;34m(self, key, method, tolerance)\u001b[0m\n\u001b[1;32m   3802\u001b[0m     \u001b[38;5;28;01mreturn\u001b[39;00m \u001b[38;5;28mself\u001b[39m\u001b[38;5;241m.\u001b[39m_engine\u001b[38;5;241m.\u001b[39mget_loc(casted_key)\n\u001b[1;32m   3803\u001b[0m \u001b[38;5;28;01mexcept\u001b[39;00m \u001b[38;5;167;01mKeyError\u001b[39;00m \u001b[38;5;28;01mas\u001b[39;00m err:\n\u001b[0;32m-> 3804\u001b[0m     \u001b[38;5;28;01mraise\u001b[39;00m \u001b[38;5;167;01mKeyError\u001b[39;00m(key) \u001b[38;5;28;01mfrom\u001b[39;00m \u001b[38;5;21;01merr\u001b[39;00m\n\u001b[1;32m   3805\u001b[0m \u001b[38;5;28;01mexcept\u001b[39;00m \u001b[38;5;167;01mTypeError\u001b[39;00m:\n\u001b[1;32m   3806\u001b[0m     \u001b[38;5;66;03m# If we have a listlike key, _check_indexing_error will raise\u001b[39;00m\n\u001b[1;32m   3807\u001b[0m     \u001b[38;5;66;03m#  InvalidIndexError. Otherwise we fall through and re-raise\u001b[39;00m\n\u001b[1;32m   3808\u001b[0m     \u001b[38;5;66;03m#  the TypeError.\u001b[39;00m\n\u001b[1;32m   3809\u001b[0m     \u001b[38;5;28mself\u001b[39m\u001b[38;5;241m.\u001b[39m_check_indexing_error(key)\n",
      "\u001b[0;31mKeyError\u001b[0m: '6. Qual seu nível de conhecimento sobre privacidade de dados?'"
     ]
    }
   ],
   "source": [
    "conhecimento_privacidade_2 = conhecimento_privacidade[\"6. Qual seu nível de conhecimento sobre privacidade de dados?\"].replace([\"Conhecimento bom\", \"Conhecimento completo\"], [\"Conhecimento intermediário\", \"Conhecimento avançado\"])\n",
    "conhecimento_privacidade_2.value_counts()\n",
    "conhecimento_privacidade_2"
   ]
  },
  {
   "cell_type": "code",
   "execution_count": null,
   "id": "b2613e7e",
   "metadata": {},
   "outputs": [],
   "source": []
  }
 ],
 "metadata": {
  "kernelspec": {
   "display_name": "Python 3 (ipykernel)",
   "language": "python",
   "name": "python3"
  },
  "language_info": {
   "codemirror_mode": {
    "name": "ipython",
    "version": 3
   },
   "file_extension": ".py",
   "mimetype": "text/x-python",
   "name": "python",
   "nbconvert_exporter": "python",
   "pygments_lexer": "ipython3",
   "version": "3.10.12"
  }
 },
 "nbformat": 4,
 "nbformat_minor": 5
}
